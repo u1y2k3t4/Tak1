{
  "nbformat": 4,
  "nbformat_minor": 0,
  "metadata": {
    "colab": {
      "provenance": [],
      "authorship_tag": "ABX9TyNOikhSv/CmjriKeHSq9tsE",
      "include_colab_link": true
    },
    "kernelspec": {
      "name": "python3",
      "display_name": "Python 3"
    },
    "language_info": {
      "name": "python"
    }
  },
  "cells": [
    {
      "cell_type": "markdown",
      "metadata": {
        "id": "view-in-github",
        "colab_type": "text"
      },
      "source": [
        "<a href=\"https://colab.research.google.com/github/u1y2k3t4/Tak1/blob/main/Task1.ipynb\" target=\"_parent\"><img src=\"https://colab.research.google.com/assets/colab-badge.svg\" alt=\"Open In Colab\"/></a>"
      ]
    },
    {
      "cell_type": "code",
      "execution_count": null,
      "metadata": {
        "id": "mab5KaunxZRK"
      },
      "outputs": [],
      "source": [
        "import numpy as np\n",
        "from sklearn.linear_model import LinearRegression\n",
        "from sklearn.model_selection import train_test_split\n",
        "from sklearn.metrics import mean_squared_error"
      ]
    },
    {
      "cell_type": "code",
      "source": [
        "X = np.array([\n",
        "    [1500, 3, 2],\n",
        "    [1800, 4, 2],\n",
        "    [2400, 4, 3],\n",
        "    [3000, 5, 4],\n",
        "    [1200, 2, 1],\n",
        "    [2200, 3, 2],\n",
        "    [1600, 3, 2],\n",
        "    [1400, 2, 1],\n",
        "    [2500, 4, 3],\n",
        "    [1700, 3, 2]\n",
        "])\n",
        "y = np.array([300, 400, 500, 600, 250, 450, 320, 270, 520, 340])"
      ],
      "metadata": {
        "id": "NrhPPyXvxjhH"
      },
      "execution_count": null,
      "outputs": []
    },
    {
      "cell_type": "code",
      "source": [
        "X_train, X_test, y_train, y_test = train_test_split(X, y, test_size=0.2, random_state=42)"
      ],
      "metadata": {
        "id": "D0ekNzLlx0iw"
      },
      "execution_count": null,
      "outputs": []
    },
    {
      "cell_type": "code",
      "source": [
        "model = LinearRegression()\n",
        "model.fit(X_train, y_train)\n",
        "y_pred = model.predict(X_test)\n",
        "print(\"Predicted Prices:\", y_pred)\n",
        "print(\"Actual Prices:   \", y_test)\n",
        "print(\"Mean Squared Error:\", mean_squared_error(y_test, y_pred))"
      ],
      "metadata": {
        "colab": {
          "base_uri": "https://localhost:8080/"
        },
        "id": "TkLZB4ykxrTT",
        "outputId": "7f6b074e-4d21-45ba-93cc-11ee27a57ce1"
      },
      "execution_count": null,
      "outputs": [
        {
          "output_type": "stream",
          "name": "stdout",
          "text": [
            "Predicted Prices: [506.74646355 362.49727965]\n",
            "Actual Prices:    [520 400]\n",
            "Mean Squared Error: 791.055131008892\n"
          ]
        }
      ]
    }
  ]
}